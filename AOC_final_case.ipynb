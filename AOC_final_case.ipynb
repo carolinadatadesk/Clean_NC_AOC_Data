{
 "cells": [
  {
   "cell_type": "code",
   "execution_count": null,
   "metadata": {},
   "outputs": [],
   "source": [
    "#cleaning the \"case\" record numbers was more diffcult because some of the case files were\n",
    "    #larger than a GB. A string can only hold about 1GB. This meant I had to go into the \n",
    "    #terminal and split them into 1GB size files in order to operate as I had with the others,\n",
    "    #by putting all of the information into an \"allLines\" string.\n",
    "    #Because there were not multiple files of the same record type, I had to go\n",
    "    #about iteration and opening/closing files differently.\n",
    "    \n",
    "#This notebook does not strip records after adding in commas, doing so will save storage and \n",
    "    #keep SQL queries happier. I had to strip them later, when queries weren't working."
   ]
  },
  {
   "cell_type": "code",
   "execution_count": 1,
   "metadata": {},
   "outputs": [],
   "source": [
    "import pandas as pd\n",
    "import numpy as np\n",
    "import xlrd\n",
    "from pathlib import Path\n",
    "import glob\n",
    "import re\n",
    "import csv"
   ]
  },
  {
   "cell_type": "code",
   "execution_count": 2,
   "metadata": {},
   "outputs": [],
   "source": [
    "pathFile = '/media/herbert/AOC_split_data/Case'\n",
    "pathList = Path(pathFile).glob('*.txt')\n",
    "\n",
    "excelPathFile = '/media/herbert/AOC_clean_data/Case/Columns_widths/'\n",
    "excelPathList = Path(excelPathFile).glob('*.xlsx')"
   ]
  },
  {
   "cell_type": "code",
   "execution_count": 3,
   "metadata": {},
   "outputs": [],
   "source": [
    "def getExcel(recordNum):\n",
    "    colPath = ('/media/herbert/AOC_clean_data/Case/Columns_widths/AOC_cols_case' +\n",
    "              recordNum + '.xlsx')\n",
    "    return colPath"
   ]
  },
  {
   "cell_type": "code",
   "execution_count": 4,
   "metadata": {},
   "outputs": [],
   "source": [
    "def cleanList(aList):\n",
    "    for item in aList:\n",
    "        if (pd.isnull(item)):\n",
    "            aList.remove(item)\n",
    "            \n",
    "    return aList"
   ]
  },
  {
   "cell_type": "code",
   "execution_count": null,
   "metadata": {},
   "outputs": [],
   "source": [
    "#Creates a list of column widths for each record type"
   ]
  },
  {
   "cell_type": "code",
   "execution_count": 5,
   "metadata": {},
   "outputs": [],
   "source": [
    "def makeWidthsList(widths):\n",
    "    newWidths = []\n",
    "    \n",
    "    for item in widths:\n",
    "        item = format(item)\n",
    "        try:\n",
    "            newItem = re.search('\\([0-9]{1,2}\\)', item)\n",
    "        except:\n",
    "            newItem = null\n",
    "\n",
    "        cleanList(widths)\n",
    "        newItem = newItem.group(0)\n",
    "        newItem = newItem.replace('(', '')\n",
    "        newItem = newItem.replace(')', '')\n",
    "        newWidths.append(newItem)\n",
    "        \n",
    "    return newWidths"
   ]
  },
  {
   "cell_type": "code",
   "execution_count": null,
   "metadata": {},
   "outputs": [],
   "source": [
    "#Appends column names to first row"
   ]
  },
  {
   "cell_type": "code",
   "execution_count": 6,
   "metadata": {},
   "outputs": [],
   "source": [
    "def addColumnNames(aList, file):\n",
    "    s = '|'\n",
    "\n",
    "    for item in aList:\n",
    "        item = format(item)\n",
    "        try:\n",
    "            item = item.lower()\n",
    "        except:\n",
    "            item = null\n",
    "            \n",
    "        cleanList(aList)\n",
    "    \n",
    "    names = s.join(aList)\n",
    "    names+='\\n'\n",
    "    \n",
    "    file.write(names)"
   ]
  },
  {
   "cell_type": "code",
   "execution_count": null,
   "metadata": {},
   "outputs": [],
   "source": [
    "#Because I had to split the files, I had to create two different methods to create the new file\n",
    "#This one handles the case that there is only one file of a given record type, so I only\n",
    "    #do not have to worry about closing the file and rewriting over it on the next iteration\n",
    "    #of that record type."
   ]
  },
  {
   "cell_type": "code",
   "execution_count": 7,
   "metadata": {},
   "outputs": [],
   "source": [
    "def handleSingleFile(currentPath, recordNum):\n",
    "    data = open(currentPath, 'r', encoding = \"ISO-8859-1\")\n",
    "\n",
    "    allLines = data.readlines()\n",
    "\n",
    "    newFileName = '/media/herbert/AOC_clean_data/Case/Final/AOC_case' + recordNum + '.csv'\n",
    "    newFileName = format(newFileName)\n",
    "\n",
    "    newFile = open(newFileName, 'w')\n",
    "\n",
    "    currentColFile = getExcel(recordNum) \n",
    "\n",
    "    cols = pd.read_excel(str(currentColFile))\n",
    "\n",
    "    colNames = cols['Name'].tolist()\n",
    "\n",
    "    addColumnNames(colNames, newFile)\n",
    "\n",
    "    widths = cols['Datatype'].tolist()\n",
    "\n",
    "    newWidths = makeWidthsList(widths)\n",
    "\n",
    "    for line in allLines:\n",
    "        s = '|'\n",
    "        info_bits = []\n",
    "        place = 0\n",
    "\n",
    "        for item in newWidths:\n",
    "            item = int(item)\n",
    "            info_bits.append(line[place:place+item])\n",
    "            place = place+item\n",
    "\n",
    "        line = s.join(info_bits)\n",
    "        line += '\\n'\n",
    "        \n",
    "        newFile.write(line)\n",
    "        \n",
    "    data.close()\n",
    "    newFile.close()"
   ]
  },
  {
   "cell_type": "code",
   "execution_count": null,
   "metadata": {},
   "outputs": [],
   "source": [
    "#This handles multiple files of the same record type, so I do not close the new file until\n",
    "    #all data for that record type is written in the new file."
   ]
  },
  {
   "cell_type": "code",
   "execution_count": 8,
   "metadata": {},
   "outputs": [],
   "source": [
    "def handleMultFile(recordNum, multRecordFiles):\n",
    "    newFileName = '/media/herbert/AOC_clean_data/Case/Final/AOC_case' + recordNum + '.csv'\n",
    "    newFileName = format(newFileName)\n",
    "\n",
    "    newFile = open(newFileName, 'w')\n",
    "    \n",
    "    currentColFile = getExcel(recordNum) \n",
    "\n",
    "    cols = pd.read_excel(str(currentColFile))\n",
    "\n",
    "    colNames = cols['Name'].tolist()\n",
    "\n",
    "    addColumnNames(colNames, newFile)\n",
    "\n",
    "    widths = cols['Datatype'].tolist()\n",
    "\n",
    "    newWidths = makeWidthsList(widths)\n",
    "    \n",
    "    currentRecordList = []\n",
    "    for file in multRecordFiles:\n",
    "        if(file[51:53] == recordNum):\n",
    "            currentRecordList.append(file)\n",
    "    \n",
    "    for file in currentRecordList:\n",
    "        \n",
    "        data = open(file, 'r', encoding = \"ISO-8859-1\")\n",
    "\n",
    "        allLines = data.readlines()\n",
    "        \n",
    "        for line in allLines:\n",
    "            s = '|'\n",
    "            info_bits = []\n",
    "            place = 0\n",
    "\n",
    "            for item in newWidths:\n",
    "                item = int(item)\n",
    "                info_bits.append(line[place:place+item])\n",
    "                place = place+item\n",
    "\n",
    "            line = s.join(info_bits)\n",
    "            line += '\\n'\n",
    "            \n",
    "            newFile.write(line)\n",
    "            \n",
    "        data.close()\n",
    "    newFile.close()\n",
    "        "
   ]
  },
  {
   "cell_type": "code",
   "execution_count": 9,
   "metadata": {},
   "outputs": [
    {
     "name": "stdout",
     "output_type": "stream",
     "text": [
      "60\n",
      "22\n",
      "50\n",
      "23\n",
      "48\n",
      "59\n",
      "28\n",
      "57\n",
      "58\n",
      "53\n",
      "55\n",
      "61\n",
      "65\n",
      "46\n",
      "47\n",
      "37\n",
      "29\n",
      "27\n",
      "38\n",
      "21\n",
      "71\n",
      "72\n",
      "73\n",
      "74\n",
      "17\n",
      "24\n",
      "32\n",
      "33\n",
      "69\n",
      "70\n",
      "36\n",
      "03\n"
     ]
    }
   ],
   "source": [
    "multRecordFiles = []\n",
    "oneRecordFile = []\n",
    "for path in pathList:\n",
    "    currentPath = str(path)\n",
    "    recordNum = currentPath[51:53]\n",
    "    intRecordNum = int(recordNum)\n",
    "    \n",
    "    #checks if there are multiple files for a record number\n",
    "    if(currentPath[54] == 'a'):\n",
    "        multRecordFiles.append(currentPath)\n",
    "    else:\n",
    "        oneRecordFile.append(currentPath)\n",
    "\n",
    "#doneList keeps track of files with multiples for the same record type completed\n",
    "doneList = []\n",
    "for file in multRecordFiles:\n",
    "    recordNum = file[51:53]\n",
    "    \n",
    "    if recordNum not in doneList:\n",
    "        doneList.append(recordNum)\n",
    "        handleMultFile(recordNum, multRecordFiles)\n",
    "    \n",
    "for file in oneRecordFile:\n",
    "    recordNum = file[51:53]\n",
    "    handleSingleFile(file, recordNum)\n"
   ]
  },
  {
   "cell_type": "code",
   "execution_count": null,
   "metadata": {},
   "outputs": [],
   "source": []
  },
  {
   "cell_type": "code",
   "execution_count": null,
   "metadata": {},
   "outputs": [],
   "source": []
  }
 ],
 "metadata": {
  "kernelspec": {
   "display_name": "Python 3",
   "language": "python",
   "name": "python3"
  },
  "language_info": {
   "codemirror_mode": {
    "name": "ipython",
    "version": 3
   },
   "file_extension": ".py",
   "mimetype": "text/x-python",
   "name": "python",
   "nbconvert_exporter": "python",
   "pygments_lexer": "ipython3",
   "version": "3.6.5"
  }
 },
 "nbformat": 4,
 "nbformat_minor": 2
}
